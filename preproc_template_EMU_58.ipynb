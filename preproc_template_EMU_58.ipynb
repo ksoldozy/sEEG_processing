{
 "cells": [
  {
   "cell_type": "markdown",
   "id": "5152d940-6d8f-4668-8eb8-90ea16d8de38",
   "metadata": {},
   "source": [
    "### Preproc EMU...."
   ]
  },
  {
   "cell_type": "code",
   "execution_count": 4,
   "id": "698e30e8-659f-47c9-8df4-a8a670ba44d6",
   "metadata": {},
   "outputs": [],
   "source": [
    "# Edit here:\n",
    "subj = {'id' :'095', 'emu': '095'}\n",
    "edf_path = '/Users/kamronsoldozy/Documents/PhD/ANALYSIS/SPEECH_MOTOR_STIM/DATA/SMA1_B1-4_EMU095.edf'"
   ]
  },
  {
   "cell_type": "code",
   "execution_count": 5,
   "id": "8fc1c8df-b00f-4cd2-8b30-75c6d3e6809a",
   "metadata": {},
   "outputs": [
    {
     "name": "stdout",
     "output_type": "stream",
     "text": [
      "reading edf...\n",
      "Done\n",
      "resampling...\n",
      "Done\n"
     ]
    },
    {
     "ename": "FileNotFoundError",
     "evalue": "[Errno 2] No such file or directory: '/Users/kamronsoldozy/Documents/PhD/ANALYSIS/SPEECH_MOTOR_STIM/DATA/out_Subject_095.xlsx'",
     "output_type": "error",
     "traceback": [
      "\u001b[0;31m---------------------------------------------------------------------------\u001b[0m",
      "\u001b[0;31mFileNotFoundError\u001b[0m                         Traceback (most recent call last)",
      "Cell \u001b[0;32mIn[5], line 49\u001b[0m\n\u001b[1;32m     46\u001b[0m     \u001b[38;5;28mprint\u001b[39m(\u001b[38;5;124m'\u001b[39m\u001b[38;5;124mDone\u001b[39m\u001b[38;5;124m'\u001b[39m)\n\u001b[1;32m     48\u001b[0m \u001b[38;5;66;03m# get channel names from pandas df\u001b[39;00m\n\u001b[0;32m---> 49\u001b[0m df_channel_info \u001b[38;5;241m=\u001b[39m \u001b[43mpd\u001b[49m\u001b[38;5;241;43m.\u001b[39;49m\u001b[43mread_excel\u001b[49m\u001b[43m(\u001b[49m\u001b[43mchannels_info_path\u001b[49m\u001b[43m)\u001b[49m\n\u001b[1;32m     50\u001b[0m channel_names \u001b[38;5;241m=\u001b[39m np\u001b[38;5;241m.\u001b[39marray(df_channel_info\u001b[38;5;241m.\u001b[39mChannel)\n\u001b[1;32m     52\u001b[0m \u001b[38;5;28mprint\u001b[39m(\u001b[38;5;124m'\u001b[39m\u001b[38;5;124mN channels =\u001b[39m\u001b[38;5;124m'\u001b[39m, \u001b[38;5;28mlen\u001b[39m(channel_names))\n",
      "File \u001b[0;32m~/anaconda3/envs/PhD/lib/python3.12/site-packages/pandas/io/excel/_base.py:495\u001b[0m, in \u001b[0;36mread_excel\u001b[0;34m(io, sheet_name, header, names, index_col, usecols, dtype, engine, converters, true_values, false_values, skiprows, nrows, na_values, keep_default_na, na_filter, verbose, parse_dates, date_parser, date_format, thousands, decimal, comment, skipfooter, storage_options, dtype_backend, engine_kwargs)\u001b[0m\n\u001b[1;32m    493\u001b[0m \u001b[38;5;28;01mif\u001b[39;00m \u001b[38;5;129;01mnot\u001b[39;00m \u001b[38;5;28misinstance\u001b[39m(io, ExcelFile):\n\u001b[1;32m    494\u001b[0m     should_close \u001b[38;5;241m=\u001b[39m \u001b[38;5;28;01mTrue\u001b[39;00m\n\u001b[0;32m--> 495\u001b[0m     io \u001b[38;5;241m=\u001b[39m \u001b[43mExcelFile\u001b[49m\u001b[43m(\u001b[49m\n\u001b[1;32m    496\u001b[0m \u001b[43m        \u001b[49m\u001b[43mio\u001b[49m\u001b[43m,\u001b[49m\n\u001b[1;32m    497\u001b[0m \u001b[43m        \u001b[49m\u001b[43mstorage_options\u001b[49m\u001b[38;5;241;43m=\u001b[39;49m\u001b[43mstorage_options\u001b[49m\u001b[43m,\u001b[49m\n\u001b[1;32m    498\u001b[0m \u001b[43m        \u001b[49m\u001b[43mengine\u001b[49m\u001b[38;5;241;43m=\u001b[39;49m\u001b[43mengine\u001b[49m\u001b[43m,\u001b[49m\n\u001b[1;32m    499\u001b[0m \u001b[43m        \u001b[49m\u001b[43mengine_kwargs\u001b[49m\u001b[38;5;241;43m=\u001b[39;49m\u001b[43mengine_kwargs\u001b[49m\u001b[43m,\u001b[49m\n\u001b[1;32m    500\u001b[0m \u001b[43m    \u001b[49m\u001b[43m)\u001b[49m\n\u001b[1;32m    501\u001b[0m \u001b[38;5;28;01melif\u001b[39;00m engine \u001b[38;5;129;01mand\u001b[39;00m engine \u001b[38;5;241m!=\u001b[39m io\u001b[38;5;241m.\u001b[39mengine:\n\u001b[1;32m    502\u001b[0m     \u001b[38;5;28;01mraise\u001b[39;00m \u001b[38;5;167;01mValueError\u001b[39;00m(\n\u001b[1;32m    503\u001b[0m         \u001b[38;5;124m\"\u001b[39m\u001b[38;5;124mEngine should not be specified when passing \u001b[39m\u001b[38;5;124m\"\u001b[39m\n\u001b[1;32m    504\u001b[0m         \u001b[38;5;124m\"\u001b[39m\u001b[38;5;124man ExcelFile - ExcelFile already has the engine set\u001b[39m\u001b[38;5;124m\"\u001b[39m\n\u001b[1;32m    505\u001b[0m     )\n",
      "File \u001b[0;32m~/anaconda3/envs/PhD/lib/python3.12/site-packages/pandas/io/excel/_base.py:1550\u001b[0m, in \u001b[0;36mExcelFile.__init__\u001b[0;34m(self, path_or_buffer, engine, storage_options, engine_kwargs)\u001b[0m\n\u001b[1;32m   1548\u001b[0m     ext \u001b[38;5;241m=\u001b[39m \u001b[38;5;124m\"\u001b[39m\u001b[38;5;124mxls\u001b[39m\u001b[38;5;124m\"\u001b[39m\n\u001b[1;32m   1549\u001b[0m \u001b[38;5;28;01melse\u001b[39;00m:\n\u001b[0;32m-> 1550\u001b[0m     ext \u001b[38;5;241m=\u001b[39m \u001b[43minspect_excel_format\u001b[49m\u001b[43m(\u001b[49m\n\u001b[1;32m   1551\u001b[0m \u001b[43m        \u001b[49m\u001b[43mcontent_or_path\u001b[49m\u001b[38;5;241;43m=\u001b[39;49m\u001b[43mpath_or_buffer\u001b[49m\u001b[43m,\u001b[49m\u001b[43m \u001b[49m\u001b[43mstorage_options\u001b[49m\u001b[38;5;241;43m=\u001b[39;49m\u001b[43mstorage_options\u001b[49m\n\u001b[1;32m   1552\u001b[0m \u001b[43m    \u001b[49m\u001b[43m)\u001b[49m\n\u001b[1;32m   1553\u001b[0m     \u001b[38;5;28;01mif\u001b[39;00m ext \u001b[38;5;129;01mis\u001b[39;00m \u001b[38;5;28;01mNone\u001b[39;00m:\n\u001b[1;32m   1554\u001b[0m         \u001b[38;5;28;01mraise\u001b[39;00m \u001b[38;5;167;01mValueError\u001b[39;00m(\n\u001b[1;32m   1555\u001b[0m             \u001b[38;5;124m\"\u001b[39m\u001b[38;5;124mExcel file format cannot be determined, you must specify \u001b[39m\u001b[38;5;124m\"\u001b[39m\n\u001b[1;32m   1556\u001b[0m             \u001b[38;5;124m\"\u001b[39m\u001b[38;5;124man engine manually.\u001b[39m\u001b[38;5;124m\"\u001b[39m\n\u001b[1;32m   1557\u001b[0m         )\n",
      "File \u001b[0;32m~/anaconda3/envs/PhD/lib/python3.12/site-packages/pandas/io/excel/_base.py:1402\u001b[0m, in \u001b[0;36minspect_excel_format\u001b[0;34m(content_or_path, storage_options)\u001b[0m\n\u001b[1;32m   1399\u001b[0m \u001b[38;5;28;01mif\u001b[39;00m \u001b[38;5;28misinstance\u001b[39m(content_or_path, \u001b[38;5;28mbytes\u001b[39m):\n\u001b[1;32m   1400\u001b[0m     content_or_path \u001b[38;5;241m=\u001b[39m BytesIO(content_or_path)\n\u001b[0;32m-> 1402\u001b[0m \u001b[38;5;28;01mwith\u001b[39;00m \u001b[43mget_handle\u001b[49m\u001b[43m(\u001b[49m\n\u001b[1;32m   1403\u001b[0m \u001b[43m    \u001b[49m\u001b[43mcontent_or_path\u001b[49m\u001b[43m,\u001b[49m\u001b[43m \u001b[49m\u001b[38;5;124;43m\"\u001b[39;49m\u001b[38;5;124;43mrb\u001b[39;49m\u001b[38;5;124;43m\"\u001b[39;49m\u001b[43m,\u001b[49m\u001b[43m \u001b[49m\u001b[43mstorage_options\u001b[49m\u001b[38;5;241;43m=\u001b[39;49m\u001b[43mstorage_options\u001b[49m\u001b[43m,\u001b[49m\u001b[43m \u001b[49m\u001b[43mis_text\u001b[49m\u001b[38;5;241;43m=\u001b[39;49m\u001b[38;5;28;43;01mFalse\u001b[39;49;00m\n\u001b[1;32m   1404\u001b[0m \u001b[43m\u001b[49m\u001b[43m)\u001b[49m \u001b[38;5;28;01mas\u001b[39;00m handle:\n\u001b[1;32m   1405\u001b[0m     stream \u001b[38;5;241m=\u001b[39m handle\u001b[38;5;241m.\u001b[39mhandle\n\u001b[1;32m   1406\u001b[0m     stream\u001b[38;5;241m.\u001b[39mseek(\u001b[38;5;241m0\u001b[39m)\n",
      "File \u001b[0;32m~/anaconda3/envs/PhD/lib/python3.12/site-packages/pandas/io/common.py:882\u001b[0m, in \u001b[0;36mget_handle\u001b[0;34m(path_or_buf, mode, encoding, compression, memory_map, is_text, errors, storage_options)\u001b[0m\n\u001b[1;32m    873\u001b[0m         handle \u001b[38;5;241m=\u001b[39m \u001b[38;5;28mopen\u001b[39m(\n\u001b[1;32m    874\u001b[0m             handle,\n\u001b[1;32m    875\u001b[0m             ioargs\u001b[38;5;241m.\u001b[39mmode,\n\u001b[0;32m   (...)\u001b[0m\n\u001b[1;32m    878\u001b[0m             newline\u001b[38;5;241m=\u001b[39m\u001b[38;5;124m\"\u001b[39m\u001b[38;5;124m\"\u001b[39m,\n\u001b[1;32m    879\u001b[0m         )\n\u001b[1;32m    880\u001b[0m     \u001b[38;5;28;01melse\u001b[39;00m:\n\u001b[1;32m    881\u001b[0m         \u001b[38;5;66;03m# Binary mode\u001b[39;00m\n\u001b[0;32m--> 882\u001b[0m         handle \u001b[38;5;241m=\u001b[39m \u001b[38;5;28;43mopen\u001b[39;49m\u001b[43m(\u001b[49m\u001b[43mhandle\u001b[49m\u001b[43m,\u001b[49m\u001b[43m \u001b[49m\u001b[43mioargs\u001b[49m\u001b[38;5;241;43m.\u001b[39;49m\u001b[43mmode\u001b[49m\u001b[43m)\u001b[49m\n\u001b[1;32m    883\u001b[0m     handles\u001b[38;5;241m.\u001b[39mappend(handle)\n\u001b[1;32m    885\u001b[0m \u001b[38;5;66;03m# Convert BytesIO or file objects passed with an encoding\u001b[39;00m\n",
      "\u001b[0;31mFileNotFoundError\u001b[0m: [Errno 2] No such file or directory: '/Users/kamronsoldozy/Documents/PhD/ANALYSIS/SPEECH_MOTOR_STIM/DATA/out_Subject_095.xlsx'"
     ]
    }
   ],
   "source": [
    "import mne, os, ast, logging\n",
    "import pandas as pd\n",
    "import numpy as np\n",
    "from os.path import join\n",
    "from autoreject import get_rejection_threshold\n",
    "from matplotlib import pyplot as plt\n",
    "from datetime import datetime\n",
    "\n",
    "from expt_params import *\n",
    "from functions import *\n",
    "\n",
    "\n",
    "mne.set_log_level('warning')\n",
    "\n",
    "# ------------------- subject-specific data paths --------------\n",
    "channels_info_path = join(params['channels_info_dir'], f'out_Subject_{subj['id']}.xlsx')\n",
    "logfile_path = join(params['logfiles_dir'], f'{subj['id']}_Trial_RTs.csv')\n",
    "\n",
    "# ------------------ output dirs and logging\n",
    "outdir_logging = join(params['outdir_logging'], subj['emu'])\n",
    "if not os.path.isdir(outdir_logging):\n",
    "    os.mkdir(outdir_logging)\n",
    "\n",
    "logging.basicConfig(\n",
    "    filename= join(outdir_logging, f'{subj['emu']}.log'),\n",
    "    filemode='a',  # Append mode to keep all logs\n",
    "    format='%(message)s',\n",
    "    level=logging.INFO)\n",
    "\n",
    "# save experiment params to log\n",
    "now = datetime.now().strftime(\"%d/%m/%Y %H:%M:%S\")\n",
    "logging.info(now)\n",
    "\n",
    "for key, val in params.items():\n",
    "    logging.info(f\"{key}: {val}\")\n",
    "\n",
    "# ------------------- Load data ---------------------------- \n",
    "print('reading edf...')\n",
    "edf = mne.io.read_raw_edf(edf_path, preload=True)\n",
    "print('Done')\n",
    "\n",
    "# if resample:\n",
    "if params['resample_fs']:\n",
    "    print('resampling...')\n",
    "    edf.resample(params['resample_fs'])\n",
    "    print('Done')\n",
    "\n",
    "# get channel names from pandas df\n",
    "df_channel_info = pd.read_excel(channels_info_path)\n",
    "channel_names = np.array(df_channel_info.Channel)\n",
    "\n",
    "print('N channels =', len(channel_names))\n",
    "logging.info(f\"N channels: {len(channel_names)}\")\n",
    "\n",
    "# pick the channels based on anatomy csv\n",
    "edf.pick_channels(channel_names)\n",
    "assert len(edf.info['ch_names']) == len(channel_names)\n",
    "\n",
    "# correct channel types\n",
    "chaedf.set_channel_types({ch_n:'seeg' for ch_n in edf.ch_names})\n",
    "\n",
    "# ----------------- Add montage ------------------------------\n",
    "montage = get_montage_from_bs(electrode_data=df_channel_info, \n",
    "                              electrode_space=params['electrode_space'], \n",
    "                              subjects_dir=params['subjects_dir'])\n",
    "edf.set_montage(montage)\n",
    "# _fig = mne.viz.plot_montage(montage, show=False)\n",
    "# _fig.suptitle(subj['emu'])\n",
    "# _fig.savefig(join(outdir_logging, f'{subj['emu']}_montage.jpg'))\n",
    "\n",
    "\n",
    "# ------------------- Filters -------------------------------\n",
    "print('Applying filters...')\n",
    "edf = apply_standard_filters(edf, params['high_pass_cutoff'], params['notch_freqs'])\n",
    "print('Done')"
   ]
  },
  {
   "cell_type": "markdown",
   "id": "9c381106-5c9a-40aa-a5d2-808f8b4db1bd",
   "metadata": {},
   "source": [
    "### Reject bad channels"
   ]
  },
  {
   "cell_type": "code",
   "execution_count": null,
   "id": "c9ca837d-d3ff-4ab6-afd6-358d765435f5",
   "metadata": {},
   "outputs": [],
   "source": [
    "# ---------- Interactive plot to reject bads ------------------ #\n",
    "%matplotlib qt\n",
    "\n",
    "# --- PSD plot\n",
    "psd =  edf.compute_psd(fmax=200)\n",
    "psd.plot()\n",
    "\n",
    "# --- raw plot\n",
    "edf.plot()\n",
    "print('>> Mark bads on raw plot (popup window)')"
   ]
  },
  {
   "cell_type": "code",
   "execution_count": null,
   "id": "4eee3c85-8c2d-4e54-8c6a-de3635251fc5",
   "metadata": {},
   "outputs": [],
   "source": [
    "# --------------------- dropping bad channels here ------------------ #\n",
    "print('Bad channels:', edf.info['bads'])\n",
    "\n",
    "# We will append more bad channels later if we find them. \n",
    "# We need this list because after we actually drop the channels this will be gone from the info dict\n",
    "all_bad_channels =  edf.info['bads'] \n",
    "\n",
    "edf.drop_channels(edf.info['bads'])\n",
    "\n",
    "# ------------------- epochs and baseline correction ------------------ #\n",
    "logfile = pd.read_csv(logfile_path)\n",
    "\n",
    "######\n",
    "print('WARNING: systematically dropping the last line of logfile')\n",
    "logfile = logfile[:-1] # drop the last row, I think it's meant to be empty ?\n",
    "#######\n",
    "\n",
    "event_times = np.array(logfile.EMU_OnsetTime)\n",
    "\n",
    "# Convert onset times to sample indices\n",
    "sfreq = edf.info['sfreq'] \n",
    "onset_samples = (event_times * sfreq).astype(int)\n",
    "event_id = 1 # same for all triggers\n",
    "events = np.column_stack((onset_samples, np.zeros(len(onset_samples), int), np.full(len(onset_samples), event_id)))\n",
    "\n",
    "print('First 10 events:\\n', events[:10])\n",
    "\n",
    "epochs = mne.Epochs(edf, \n",
    "                    events, \n",
    "                    tmin = params['epochs_tmin'],\n",
    "                    tmax = params['epochs_tmax'],\n",
    "                    baseline = params['epochs_baseline'],\n",
    "                    decim = params['epochs_decim'],\n",
    "                    metadata = logfile,\n",
    "                    reject = None,\n",
    "                    preload = True)\n",
    "\n",
    "logging.info(f'Init num of epochs: {len(epochs)}')\n",
    "\n",
    "# reject noisy epochs using autoreject:\n",
    "# see docs here https://autoreject.github.io/stable/explanation.html\n",
    "rejection_threshold = get_rejection_threshold(epochs, decim=2)\n",
    "print(rejection_threshold)\n",
    "logging.info(f'epochs_rejection_threshold: {rejection_threshold}')\n",
    "\n",
    "epochs_rej = epochs.copy()\n",
    "epochs_rej.drop_bad(reject=rejection_threshold, verbose='warning')\n",
    "\n",
    "print_epochs_rejection_info(epochs, epochs_rej)\n",
    "\n",
    "#--- plot a graph showing how many epochs were rejected due to each channel\n",
    "# Note: epochs can be rejected based on multiple channels, this only shows the # of times a channel caused a bad epoch\n",
    "%matplotlib inline\n",
    "fig = plot_epochs_rejcount_by_channel(epochs_rej, method='zscore', threshold=2)"
   ]
  },
  {
   "cell_type": "markdown",
   "id": "0fb4cfa4-546c-446a-a1f3-fdd25c6852af",
   "metadata": {},
   "source": [
    "### Manually determine if there are more bad channels"
   ]
  },
  {
   "cell_type": "code",
   "execution_count": null,
   "id": "b97bd575-f9da-4eca-9053-0ff990b054b6",
   "metadata": {},
   "outputs": [],
   "source": [
    "# manually iterate over some rejection of channels if needed\n",
    "drop_channel_then_print_new_epoch_rejcount(epochs=epochs, \n",
    "                                           bad_channels=[], \n",
    "                                           rejection_threshold=rejection_threshold)"
   ]
  },
  {
   "cell_type": "code",
   "execution_count": null,
   "id": "74c05ce8-6f04-4b7a-beef-4a6a814249b3",
   "metadata": {},
   "outputs": [],
   "source": [
    "# Based on the above iterations derermine which channels to reject for the final cleaning\n",
    "channels_to_drop = [] # if none, leave empty\n",
    "\n",
    "# append to list of all bad channels which we will add to the logs\n",
    "for ch in channels_to_drop:\n",
    "    all_bad_channels.append(ch)\n",
    "\n",
    "epochs_clean = epochs.copy() # make a copy\n",
    "epochs_clean.drop_channels(channels_to_drop) # drop the outlier channel(s) based on plot above\n",
    "epochs_clean.drop_bad(reject=rejection_threshold, verbose='warning') # then reject bad epochs using the threshold\n",
    "print('WARNING: threshold was calculated using the full set of electrodes, but applied after rejecting some new ones')\n",
    "\n",
    "num_rej, percent_rej = print_epochs_rejection_info(epochs, epochs_clean)\n",
    "# plot_epochs_rejcount_by_channel(epochs_clean, method='zscore', threshold=2)\n",
    "\n",
    "\n",
    "logging.info(f'Bad channels: {all_bad_channels}')\n",
    "logging.info(f'Num bad epochs: {num_rej} ({round(percent_rej, 2)}%)')\n",
    "logging.info(f'Num clean epochs: {len(epochs_clean)}')\n",
    "\n",
    "# save epochs\n",
    "epochs_clean.save(join(params['outdir_epochs'], f'{subj['emu']}-epo.fif'))\n",
    "\n"
   ]
  },
  {
   "cell_type": "code",
   "execution_count": null,
   "id": "1a95815d-3f16-4634-929e-d76aa9b35310",
   "metadata": {},
   "outputs": [],
   "source": [
    "# plot evoked and savefig\n",
    "%matplotlib inline\n",
    "fig_evoked = epochs_clean.average().plot_joint()\n",
    "fig_evoked.savefig(join(outdir_logging, f'{subj['emu']}_evoked.jpg'))\n",
    "\n",
    "\n",
    "# finally plot sensors on fsaverage\n",
    "brain = plot_seeg_freesurfer(epochs_clean, subjects_dir=params['subjects_dir'])\n",
    "brain.save_image(join(outdir_logging, f'{subj['emu']}_brain.jpg'))\n",
    "brain.close()\n"
   ]
  },
  {
   "cell_type": "code",
   "execution_count": null,
   "id": "d9d59d71-c8ea-4ec7-9732-abd2646ad40e",
   "metadata": {},
   "outputs": [],
   "source": []
  }
 ],
 "metadata": {
  "kernelspec": {
   "display_name": "Python 3 (ipykernel)",
   "language": "python",
   "name": "python3"
  },
  "language_info": {
   "codemirror_mode": {
    "name": "ipython",
    "version": 3
   },
   "file_extension": ".py",
   "mimetype": "text/x-python",
   "name": "python",
   "nbconvert_exporter": "python",
   "pygments_lexer": "ipython3",
   "version": "3.12.5"
  }
 },
 "nbformat": 4,
 "nbformat_minor": 5
}
