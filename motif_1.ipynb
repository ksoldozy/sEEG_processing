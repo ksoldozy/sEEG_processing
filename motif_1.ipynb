{
 "cells": [
  {
   "cell_type": "code",
   "execution_count": 30,
   "metadata": {},
   "outputs": [],
   "source": [
    "from seqnmf import seqnmf, plot, example_data\n",
    "from scipy.ndimage import uniform_filter1d\n",
    "from scipy.ndimage import gaussian_filter1d\n",
    "from numpy.linalg import norm\n",
    "from scipy.signal import convolve\n",
    "from scipy.signal import decimate\n",
    "import pickle\n",
    "\n",
    "import time\n",
    "\n",
    "import mne, os, ast, logging\n",
    "import pandas as pd\n",
    "import numpy as np\n",
    "from os.path import join\n",
    "from matplotlib import pyplot as plt\n",
    "\n",
    "from expt_params import *\n",
    "from functions import *\n",
    "\n"
   ]
  },
  {
   "cell_type": "code",
   "execution_count": 2,
   "metadata": {},
   "outputs": [],
   "source": [
    "emu = 'EMU128'\n",
    "\n",
    "if os.path.exists(params['outdir_edfs']):\n",
    "    power_cube = np.load(params['outdir_edfs'] + '%s-power_cube.npy' % emu)\n",
    "else:\n",
    "    power_cube = np.load(params['outdir_edfs_WIN']  + '%s-power_cube.npy' % emu)\n"
   ]
  },
  {
   "cell_type": "code",
   "execution_count": 3,
   "metadata": {},
   "outputs": [
    {
     "name": "stdout",
     "output_type": "stream",
     "text": [
      "Working on Channel #0\n",
      "Working on Channel #10\n",
      "Working on Channel #20\n",
      "Working on Channel #30\n",
      "Working on Channel #40\n",
      "Working on Channel #50\n",
      "Working on Channel #60\n",
      "Working on Channel #70\n",
      "Working on Channel #80\n",
      "Working on Channel #90\n",
      "Working on Channel #100\n",
      "Working on Channel #110\n"
     ]
    }
   ],
   "source": [
    "#We are struggling with the immense amount of data. Let's try smoothing the power values, then downsampling, then standardizing (below)\n",
    "sigma = 20\n",
    "#Later, individual sigmas for each band and do for all bands. \n",
    "for ch in range(power_cube.shape[0]):\n",
    "    if ch%10==0:print(\"Working on Channel #%s\" % ch)\n",
    "    for band in range(2, 3):\n",
    "        power_cube[ch, band, :] = gaussian_filter1d(power_cube[ch, band, :], sigma=sigma, axis=-1)"
   ]
  },
  {
   "cell_type": "code",
   "execution_count": 4,
   "metadata": {},
   "outputs": [],
   "source": [
    "# Now we downsample a bit...\n",
    "\n",
    "ds_factor = 10\n",
    "decimated = decimate(power_cube[:, 2, :], ds_factor, axis=-1, ftype='fir')\n"
   ]
  },
  {
   "cell_type": "code",
   "execution_count": 9,
   "metadata": {},
   "outputs": [
    {
     "name": "stdout",
     "output_type": "stream",
     "text": [
      "(119, 360000)\n",
      "(119, 6, 3600000)\n"
     ]
    }
   ],
   "source": [
    "print(decimated[:, :].shape)\n",
    "print(power_cube.shape)\n",
    "del power_cube"
   ]
  },
  {
   "cell_type": "code",
   "execution_count": 12,
   "metadata": {},
   "outputs": [
    {
     "name": "stdout",
     "output_type": "stream",
     "text": [
      "Current Channel is 0\n",
      "Current Channel is 10\n",
      "Current Channel is 20\n",
      "Current Channel is 30\n",
      "Current Channel is 40\n",
      "Current Channel is 50\n",
      "Current Channel is 60\n",
      "Current Channel is 70\n",
      "Current Channel is 80\n",
      "Current Channel is 90\n",
      "Current Channel is 100\n",
      "Current Channel is 110\n"
     ]
    },
    {
     "data": {
      "text/plain": [
       "'\\n#For power cube:\\nnormalized_power_cube = np.zeros_like(power_cube)\\nbin_width = 1000  # Must be odd to center the window (if not, close enough is fine) \\n\\nfor ch in range(power_cube.shape[0]): #power_cube.shape[0]cha\\n    print(f\"Channel {ch}\")\\n    for band in range(power_cube.shape[1]):\\n        normalized_power_cube[ch, band, :] = sliding_zscore(power_cube[ch, band, :], bin_width)\\n'"
      ]
     },
     "execution_count": 12,
     "metadata": {},
     "output_type": "execute_result"
    }
   ],
   "source": [
    "\n",
    "### Let's do a sliding z-score on this data for each channel so that we can compare fairly across them. No high power channels will dominate motifs!\n",
    "\n",
    "def sliding_zscore(arr, window_size):\n",
    "    mean = uniform_filter1d(arr, size=window_size, mode='nearest')\n",
    "    sq_mean = uniform_filter1d(arr**2, size=window_size, mode='nearest')\n",
    "    std = np.sqrt(sq_mean - mean**2)\n",
    "    z = (arr - mean) / std\n",
    "    return z\n",
    "\n",
    "\n",
    "def legacy_sliding_zscore(power_cube, bin_width=1000, target_band=None):\n",
    "    \"\"\"\n",
    "    Applies a sliding z-score normalization to a 3D power cube (channels x bands x time).\n",
    "    Only normalizes a specific frequency band if target_band is specified (int).\n",
    "    \"\"\"\n",
    "    normalized_power_cube = np.zeros_like(power_cube)\n",
    "    half_bin = bin_width // 2\n",
    "    n_channels, n_bands, n_times = power_cube.shape\n",
    "\n",
    "    for ch in range(n_channels):\n",
    "        print(f\"Working on Channel {ch}\")\n",
    "        for band in range(n_bands):\n",
    "            if (target_band is not None) and (band != target_band):\n",
    "                continue\n",
    "            for i in range(n_times):\n",
    "                start = max(0, i - half_bin)\n",
    "                end = min(n_times, i + half_bin)\n",
    "                window = power_cube[ch, band, start:end]\n",
    "\n",
    "                data_mean = np.mean(window)\n",
    "                data_std = np.std(window)\n",
    "                if data_std == 0:\n",
    "                    print(f\"  ⚠️ Std=0 at ch={ch}, band={band}, time={i}\")\n",
    "                    data_std = 1e-6  # Prevent divide-by-zero\n",
    "\n",
    "                normalized_power_cube[ch, band, i] = (power_cube[ch, band, i] - data_mean) / data_std\n",
    "\n",
    "    return normalized_power_cube\n",
    "\n",
    "\n",
    "#Change this to decimated...\n",
    "normalized_power_cube = np.zeros_like(decimated)\n",
    "bin_width = 100\n",
    "\n",
    "for ch in range(decimated.shape[0]):\n",
    "    if ch %10 ==0: print(\"Current Channel is %s\" % ch);\n",
    "    normalized_power_cube[ch, :] = sliding_zscore(decimated[ch, :], bin_width)\n",
    "\"\"\"\n",
    "#For power cube:\n",
    "normalized_power_cube = np.zeros_like(power_cube)\n",
    "bin_width = 1000  # Must be odd to center the window (if not, close enough is fine) \n",
    "\n",
    "for ch in range(power_cube.shape[0]): #power_cube.shape[0]cha\n",
    "    print(f\"Channel {ch}\")\n",
    "    for band in range(power_cube.shape[1]):\n",
    "        normalized_power_cube[ch, band, :] = sliding_zscore(power_cube[ch, band, :], bin_width)\n",
    "\"\"\"\n",
    "#Legacy, works but is extremely slow computationally.\n",
    "#print(np.allclose(test_normPC[0, 0, 10000:20000], normalized_power_cube[0, 0, 10000:20000], atol=1e-5))  # Should be True\n"
   ]
  },
  {
   "cell_type": "code",
   "execution_count": null,
   "metadata": {},
   "outputs": [],
   "source": []
  },
  {
   "cell_type": "code",
   "execution_count": 15,
   "metadata": {},
   "outputs": [
    {
     "name": "stdout",
     "output_type": "stream",
     "text": [
      "0\n",
      "10\n",
      "20\n",
      "30\n",
      "40\n",
      "50\n",
      "60\n",
      "70\n",
      "80\n",
      "90\n",
      "100\n",
      "110\n"
     ]
    }
   ],
   "source": [
    "#FOR DECIM\n",
    "\n",
    "for ch in range(normalized_power_cube.shape[0]):\n",
    "    if ch%10==0: print(ch)\n",
    "    min_val = np.min(normalized_power_cube[ch, :])\n",
    "    normalized_power_cube[ch, :] -= min_val\n",
    "\n"
   ]
  },
  {
   "cell_type": "code",
   "execution_count": 4,
   "metadata": {},
   "outputs": [
    {
     "name": "stdout",
     "output_type": "stream",
     "text": [
      "0\n",
      "1\n",
      "2\n",
      "3\n",
      "4\n",
      "5\n",
      "6\n",
      "7\n",
      "8\n",
      "9\n",
      "10\n",
      "11\n",
      "12\n",
      "13\n",
      "14\n",
      "15\n",
      "16\n",
      "17\n",
      "18\n",
      "19\n",
      "20\n",
      "21\n",
      "22\n",
      "23\n",
      "24\n",
      "25\n",
      "26\n",
      "27\n",
      "28\n",
      "29\n",
      "30\n",
      "31\n",
      "32\n",
      "33\n",
      "34\n",
      "35\n",
      "36\n",
      "37\n",
      "38\n",
      "39\n",
      "40\n",
      "41\n",
      "42\n",
      "43\n",
      "44\n",
      "45\n",
      "46\n",
      "47\n",
      "48\n",
      "49\n",
      "50\n",
      "51\n",
      "52\n",
      "53\n",
      "54\n",
      "55\n",
      "56\n",
      "57\n",
      "58\n",
      "59\n",
      "60\n",
      "61\n",
      "62\n",
      "63\n",
      "64\n",
      "65\n",
      "66\n",
      "67\n",
      "68\n",
      "69\n",
      "70\n",
      "71\n",
      "72\n",
      "73\n",
      "74\n",
      "75\n",
      "76\n",
      "77\n",
      "78\n",
      "79\n",
      "80\n",
      "81\n",
      "82\n",
      "83\n",
      "84\n",
      "85\n",
      "86\n",
      "87\n",
      "88\n",
      "89\n",
      "90\n",
      "91\n",
      "92\n",
      "93\n",
      "94\n",
      "95\n",
      "96\n",
      "97\n",
      "98\n",
      "99\n",
      "100\n",
      "101\n",
      "102\n",
      "103\n",
      "104\n",
      "105\n",
      "106\n",
      "107\n",
      "108\n",
      "109\n",
      "110\n",
      "111\n",
      "112\n",
      "113\n",
      "114\n",
      "115\n",
      "116\n",
      "117\n",
      "118\n"
     ]
    }
   ],
   "source": [
    "#FOR POWER_CUBE\n",
    "#Now we work to make all values positive:\n",
    "for ch in range(normalized_power_cube.shape[0]):\n",
    "    print(ch)\n",
    "    for band in range(normalized_power_cube.shape[1]):\n",
    "        min_val = np.min(normalized_power_cube[ch, band, :])\n",
    "        normalized_power_cube[ch, band, :] -= min_val\n",
    "\n"
   ]
  },
  {
   "cell_type": "code",
   "execution_count": 14,
   "metadata": {},
   "outputs": [
    {
     "ename": "MemoryError",
     "evalue": "Unable to allocate 3.19 GiB for an array with shape (119, 3602000) and data type float64",
     "output_type": "error",
     "traceback": [
      "\u001b[1;31m---------------------------------------------------------------------------\u001b[0m",
      "\u001b[1;31mMemoryError\u001b[0m                               Traceback (most recent call last)",
      "Cell \u001b[1;32mIn[14], line 7\u001b[0m\n\u001b[0;32m      4\u001b[0m L \u001b[38;5;241m=\u001b[39m \u001b[38;5;241m975\u001b[39m\n\u001b[0;32m      5\u001b[0m Lambda \u001b[38;5;241m=\u001b[39m \u001b[38;5;241m0.0005\u001b[39m\n\u001b[1;32m----> 7\u001b[0m [W, H, cost, loadings, power] \u001b[38;5;241m=\u001b[39m \u001b[43mseqnmf\u001b[49m\u001b[43m(\u001b[49m\u001b[43mnormalized_power_cube\u001b[49m\u001b[43m[\u001b[49m\u001b[43m:\u001b[49m\u001b[43m,\u001b[49m\u001b[43m \u001b[49m\u001b[38;5;241;43m2\u001b[39;49m\u001b[43m,\u001b[49m\u001b[43m \u001b[49m\u001b[43m:\u001b[49m\u001b[43m]\u001b[49m\u001b[43m,\u001b[49m\u001b[43m \u001b[49m\u001b[43mK\u001b[49m\u001b[43m,\u001b[49m\u001b[43m \u001b[49m\u001b[43mL\u001b[49m\u001b[38;5;241;43m=\u001b[39;49m\u001b[38;5;241;43m1000\u001b[39;49m\u001b[43m,\u001b[49m\u001b[43m \u001b[49m\u001b[43mLambda\u001b[49m\u001b[38;5;241;43m=\u001b[39;49m\u001b[43mLambda\u001b[49m\u001b[43m)\u001b[49m\n\u001b[0;32m      9\u001b[0m end_time \u001b[38;5;241m=\u001b[39m time\u001b[38;5;241m.\u001b[39mtime()\n\u001b[0;32m     10\u001b[0m runtime_seconds \u001b[38;5;241m=\u001b[39m end_time \u001b[38;5;241m-\u001b[39m start_time\n",
      "File \u001b[1;32mc:\\Users\\Kamron\\anaconda3\\envs\\phd\\lib\\site-packages\\seqnmf\\seqnmf.py:42\u001b[0m, in \u001b[0;36mseqnmf\u001b[1;34m(X, K, L, Lambda, W_init, H_init, plot_it, max_iter, tol, shift, sort_factors, lambda_L1W, lambda_L1H, lambda_OrthH, lambda_OrthW, M, use_W_update, W_fixed)\u001b[0m\n\u001b[0;32m     40\u001b[0m N \u001b[38;5;241m=\u001b[39m X\u001b[38;5;241m.\u001b[39mshape[\u001b[38;5;241m0\u001b[39m]\n\u001b[0;32m     41\u001b[0m T \u001b[38;5;241m=\u001b[39m X\u001b[38;5;241m.\u001b[39mshape[\u001b[38;5;241m1\u001b[39m] \u001b[38;5;241m+\u001b[39m \u001b[38;5;241m2\u001b[39m \u001b[38;5;241m*\u001b[39m L\n\u001b[1;32m---> 42\u001b[0m X \u001b[38;5;241m=\u001b[39m \u001b[43mnp\u001b[49m\u001b[38;5;241;43m.\u001b[39;49m\u001b[43mconcatenate\u001b[49m\u001b[43m(\u001b[49m\u001b[43m(\u001b[49m\u001b[43mnp\u001b[49m\u001b[38;5;241;43m.\u001b[39;49m\u001b[43mzeros\u001b[49m\u001b[43m(\u001b[49m\u001b[43m[\u001b[49m\u001b[43mN\u001b[49m\u001b[43m,\u001b[49m\u001b[43m \u001b[49m\u001b[43mL\u001b[49m\u001b[43m]\u001b[49m\u001b[43m)\u001b[49m\u001b[43m,\u001b[49m\u001b[43m \u001b[49m\u001b[43mX\u001b[49m\u001b[43m,\u001b[49m\u001b[43m \u001b[49m\u001b[43mnp\u001b[49m\u001b[38;5;241;43m.\u001b[39;49m\u001b[43mzeros\u001b[49m\u001b[43m(\u001b[49m\u001b[43m[\u001b[49m\u001b[43mN\u001b[49m\u001b[43m,\u001b[49m\u001b[43m \u001b[49m\u001b[43mL\u001b[49m\u001b[43m]\u001b[49m\u001b[43m)\u001b[49m\u001b[43m)\u001b[49m\u001b[43m,\u001b[49m\u001b[43m \u001b[49m\u001b[43maxis\u001b[49m\u001b[38;5;241;43m=\u001b[39;49m\u001b[38;5;241;43m1\u001b[39;49m\u001b[43m)\u001b[49m\n\u001b[0;32m     44\u001b[0m \u001b[38;5;28;01mif\u001b[39;00m W_init \u001b[38;5;129;01mis\u001b[39;00m \u001b[38;5;28;01mNone\u001b[39;00m:\n\u001b[0;32m     45\u001b[0m     W_init \u001b[38;5;241m=\u001b[39m np\u001b[38;5;241m.\u001b[39mmax(X) \u001b[38;5;241m*\u001b[39m np\u001b[38;5;241m.\u001b[39mrandom\u001b[38;5;241m.\u001b[39mrand(N, K, L)\n",
      "\u001b[1;31mMemoryError\u001b[0m: Unable to allocate 3.19 GiB for an array with shape (119, 3602000) and data type float64"
     ]
    }
   ],
   "source": [
    "start_time = time.time()\n",
    "\n",
    "K = 28\n",
    "L = 975\n",
    "Lambda = 0.0005\n",
    "\n",
    "[W, H, cost, loadings, power] = seqnmf(normalized_power_cube[:, 2, :], K, L=1000, Lambda=Lambda)\n",
    "\n",
    "end_time = time.time()\n",
    "runtime_seconds = end_time - start_time\n",
    "print(\"Runtime was %s seconds\" %runtime_seconds)"
   ]
  },
  {
   "cell_type": "code",
   "execution_count": 19,
   "metadata": {},
   "outputs": [
    {
     "name": "stdout",
     "output_type": "stream",
     "text": [
      "Runtime was 16816.81442117691 seconds\n"
     ]
    }
   ],
   "source": [
    "#FOR DECIM\n",
    "start_time = time.time()\n",
    "\n",
    "K = 28\n",
    "L = 98 #980 ms\n",
    "Lambda = 0.0005\n",
    "\n",
    "[W, H, cost, loadings, power] = seqnmf(normalized_power_cube, K, L=L, Lambda=Lambda)\n",
    "\n",
    "end_time = time.time()\n",
    "runtime_seconds = end_time - start_time\n",
    "print(\"Runtime was %s seconds\" %runtime_seconds)"
   ]
  },
  {
   "cell_type": "code",
   "execution_count": 29,
   "metadata": {},
   "outputs": [],
   "source": [
    "with open(\"C:\\\\Users\\\\Kamron\\\\Documents\\\\PhD\\\\sEEG_processing\\\\DATA\\\\motif_test.pkl\", \"wb\") as f:\n",
    "    pickle.dump([W, H, cost, loadings, power], f)"
   ]
  },
  {
   "cell_type": "code",
   "execution_count": 32,
   "metadata": {},
   "outputs": [
    {
     "name": "stdout",
     "output_type": "stream",
     "text": [
      "Fraction of Variance Explained (FVE): 0.17345436877542686\n"
     ]
    }
   ],
   "source": [
    "#Our next step will be to reconstruct the data,\n",
    "#Then depict how much variance each motif captures and in total all the motifs\n",
    "#Then we should practice visualizing dynamics of motifs with brain images\n",
    "##THENN!! We will have all of the tools to 'evaluate' the motifs well, so we can run this with new parameters to find an optimal solution or something."
   ]
  },
  {
   "cell_type": "code",
   "execution_count": 24,
   "metadata": {},
   "outputs": [
    {
     "data": {
      "text/plain": [
       "'C:\\\\Users\\\\Kamron\\\\Documents\\\\PhD\\\\sEEG_processing\\\\DATA\\\\EDFs\\\\'"
      ]
     },
     "execution_count": 24,
     "metadata": {},
     "output_type": "execute_result"
    }
   ],
   "source": []
  },
  {
   "cell_type": "code",
   "execution_count": 31,
   "metadata": {},
   "outputs": [
    {
     "data": {
      "text/plain": [
       "(119, 360000)"
      ]
     },
     "execution_count": 31,
     "metadata": {},
     "output_type": "execute_result"
    }
   ],
   "source": []
  },
  {
   "cell_type": "code",
   "execution_count": null,
   "metadata": {},
   "outputs": [],
   "source": []
  }
 ],
 "metadata": {
  "kernelspec": {
   "display_name": "phd",
   "language": "python",
   "name": "python3"
  },
  "language_info": {
   "codemirror_mode": {
    "name": "ipython",
    "version": 3
   },
   "file_extension": ".py",
   "mimetype": "text/x-python",
   "name": "python",
   "nbconvert_exporter": "python",
   "pygments_lexer": "ipython3",
   "version": "3.10.14"
  }
 },
 "nbformat": 4,
 "nbformat_minor": 2
}
